{
 "cells": [
  {
   "cell_type": "markdown",
   "metadata": {
    "slideshow": {
     "slide_type": "slide"
    }
   },
   "source": [
    "# Breve exploración de metapoblaciones en paisajes fragmentados"
   ]
  },
  {
   "cell_type": "markdown",
   "metadata": {
    "slideshow": {
     "slide_type": "subslide"
    }
   },
   "source": [
    "## *¿Cómo sobreviven las especies en paisajes fragmentados por actividades agrícolas?*"
   ]
  },
  {
   "cell_type": "markdown",
   "metadata": {
    "slideshow": {
     "slide_type": "fragment"
    }
   },
   "source": [
    "![Image](https://c3.staticflickr.com/4/3225/2765256546_5de1d0344c_b.jpg)\n",
    "#### Paisaje fragmentado (fotografía por [davidchief](https://www.flickr.com/photos/davidchief/2765256546/) / [CC BY 2.0](https://creativecommons.org/licenses/by/2.0/))."
   ]
  },
  {
   "cell_type": "code",
   "execution_count": 1,
   "metadata": {
    "collapsed": false,
    "slideshow": {
     "slide_type": "slide"
    }
   },
   "outputs": [],
   "source": [
    "# Módulos necesarios\n",
    "import numpy\n",
    "from ipywidgets import interactive\n",
    "from scipy.integrate import odeint\n",
    "from matplotlib import pyplot\n",
    "from IPython.display import display"
   ]
  },
  {
   "cell_type": "code",
   "execution_count": 2,
   "metadata": {
    "collapsed": false,
    "scrolled": false,
    "slideshow": {
     "slide_type": "fragment"
    }
   },
   "outputs": [],
   "source": [
    "numpy.set_printoptions(precision=3)\n",
    "%matplotlib inline\n",
    "pyplot.style.use('seaborn-deep')\n",
    "pyplot.rcParams['font.family'] = 'serif'\n",
    "pyplot.rcParams['font.size'] = 18\n",
    "pyplot.rcParams['axes.labelsize'] = 24\n",
    "pyplot.rcParams['figure.figsize'] = (13, 8)"
   ]
  },
  {
   "cell_type": "markdown",
   "metadata": {
    "slideshow": {
     "slide_type": "slide"
    }
   },
   "source": [
    "## 1. Metapoblaciones"
   ]
  },
  {
   "cell_type": "markdown",
   "metadata": {
    "slideshow": {
     "slide_type": "fragment"
    }
   },
   "source": [
    "![Image](./figuras/levins_a.png)\n",
    "\n",
    "#### (Levins 1969)"
   ]
  },
  {
   "cell_type": "markdown",
   "metadata": {
    "slideshow": {
     "slide_type": "notes"
    }
   },
   "source": [
    "### Metapoblación\n",
    "\n",
    "Hace casi 50 años, Richard Levins imaginó cómo una especie podría sobrevivir en un paisaje fragmentado. En su modelo, el paisaje está compuesto por parches de hábitat y áreas inhabitables, y cada parche de hábitat está ocupado por una población local que, debido a variaciones ambientales, corre un riesgo de extinción. Las poblaciones locales son independientes, pero los individuos pueden migrar colonizando nuevos parches de hábitat. Este conjunto de poblaciones locales que interactúan a través de la migración de individuos se llama *metapoblación*: una población de poblaciones. El balance entre extinción y colonización determina la supervivencia de las especies en el paisaje."
   ]
  },
  {
   "cell_type": "markdown",
   "metadata": {
    "slideshow": {
     "slide_type": "slide"
    }
   },
   "source": [
    "### Modelo clásico de Levins (1969)\n",
    "\n",
    "![Image](./figuras/diagrama_levins_s.png)\n",
    "#### Metapoblación en un paisaje fragmentado\n",
    "\n",
    "Aunque sólo una fracción $h$ de parches son habitables, los individuos se pueden mover en todo el paisaje y en un tiempo $t$, una proporción $p(t)$ de parches están ocupados. Como los parches de hábitat son similares, tienen la misma probabilidad de ser colonizados, $c$, y las poblaciones locales tienen la misma probabilidad de extinción $e$; tanto la probabilidad de colonización como de extinción varían entre especies. La tasa a la que aparecen nuevas poblaciones, es decir, la tasa a la que se ocupan los parches, depende de la probabilidad de colonización $c$, de la proporción de parches habitados $p$ (de donde provienen los individuos) y de la proporción de parches no habitados $h-p$ (hacia donde van los individuos): $$ Colonización = c p (h-p). $$\n",
    "\n",
    "Por otro lado, la tasa a la que desaparecen las poblaciones, es decir, la tasa a la que se desocupan los parches, depende de la probabilidad de extinción local $e$ y de la proporción de parches habitados $p$: $$ Extinción = e p. $$\n",
    "\n",
    "Entonces la proporción de parches habitados cambia en el tiempo de acuerdo a $$\\frac{dp}{dt} = cp(h-p) -ep.$$"
   ]
  },
  {
   "cell_type": "markdown",
   "metadata": {
    "slideshow": {
     "slide_type": "slide"
    }
   },
   "source": [
    "### Supervivencia de la metapoblación\n",
    "\n",
    "La metapoblación alcanza el equilibrio $p^*$ cuando las tasas de colonización y extinción son iguales, es decir, cuando $$ cp(h-p)=ep, $$ de donde, $$p^*=h-\\frac{e}{c}.$$\n",
    "\n",
    "Este valor $p^*$ es la proporción de parches ocupados que conforman la metapoblación en el largo plazo. \n",
    "\n",
    "Cuando todo el paisaje es habitable ($h = 1$), la metapoblación sobrevive ($p^* > 0$) si la probabilidad de colonización es mayor a la probabilidad de extinción, es decir, si $c>e$. Al disminuir la proporción de parches habitables, también disminuye la tasa de colonización. La razón entre las probabilidades de colonización y extinción contrarrestra la pérdida de hábitat en tanto $h>\\frac{e}{c}$; la metapoblación se extingue si la pérdida de hábitat cruza ese umbral, incluso si aún hay parches habitables. "
   ]
  },
  {
   "cell_type": "markdown",
   "metadata": {
    "slideshow": {
     "slide_type": "slide"
    }
   },
   "source": [
    "##### Exploración"
   ]
  },
  {
   "cell_type": "code",
   "execution_count": null,
   "metadata": {
    "collapsed": false,
    "slideshow": {
     "slide_type": "fragment"
    }
   },
   "outputs": [],
   "source": [
    "def levins(parches_ocupados, t, colonización, hábitat, extinción): \n",
    "    \"\"\"\n",
    "    Modelo de metapoblaciones de Levins (1969)\n",
    "    Cambio en el tiempo de los parches_ocupados, entre todos los parches\n",
    "    \"\"\"\n",
    "    d_parches_ocupados = colonización * parches_ocupados * (hábitat-parches_ocupados) \\\n",
    "                        - extinción * parches_ocupados\n",
    "    return d_parches_ocupados"
   ]
  },
  {
   "cell_type": "code",
   "execution_count": null,
   "metadata": {
    "collapsed": false,
    "slideshow": {
     "slide_type": "fragment"
    }
   },
   "outputs": [],
   "source": [
    "def graficar_levins(colonización=0.8, hábitat=1, extinción=0.1, población_inicial=0.5):\n",
    "    tiempo = numpy.linspace(0, 40, 41)\n",
    "    \n",
    "    parches_ocupados = odeint(levins, población_inicial, tiempo, \n",
    "           args=(colonización, hábitat, extinción))\n",
    "    \n",
    "    pyplot.figure()\n",
    "    pyplot.plot(tiempo, parches_ocupados[:], \n",
    "                label = \"e/c= {:.3f}\".format(extinción/colonización), lw=4)\n",
    "    pyplot.ylim(-0.05, 1.1)\n",
    "    pyplot.xlabel('tiempo')\n",
    "    pyplot.ylabel('parches ocupados')\n",
    "    pyplot.title('Metapoblación de Levins\\n')\n",
    "    #pyplot.legend()\n",
    "    \n",
    "x = interactive(graficar_levins, \n",
    "                colonización = (0, 1, 0.1),\n",
    "                extinción = (0, 1, 0.1),\n",
    "                hábitat = (0, 1, 0.1),\n",
    "                población_inicial = (0, 1, 0.1))"
   ]
  },
  {
   "cell_type": "code",
   "execution_count": null,
   "metadata": {
    "collapsed": false,
    "scrolled": false,
    "slideshow": {
     "slide_type": "slide"
    }
   },
   "outputs": [],
   "source": [
    "display(x)"
   ]
  },
  {
   "cell_type": "markdown",
   "metadata": {
    "slideshow": {
     "slide_type": "slide"
    }
   },
   "source": [
    "### Vulnerabilidad ante la pérdida de hábitat\n",
    "\n",
    "Ante la pérdida de hábitat, la metapoblación es sensible a variaciones ambientales. \n",
    "\n",
    "Para observar esta vulnerabilidad graficaremos las tasas de colonización y extinción en función de la proporción de parches ocupados. La tasa de colonización tiene la forma de una parábola y la de extinción, de una recta:\n",
    "\n",
    "$$ Colonización = c p (h-p) = cph - cp^2,$$\n",
    "$$ Extinción = e p. $$\n",
    "\n",
    "El punto de equlibirio $p^*$ ocurre en la intersección de las curvas. De nuevo, observemos que existe un punto de equilibrio si $h>\\frac{e}{c}$ y que la pérdida de hábitat disminuye la tasa de colonización.\n",
    "\n",
    "Ahora imaginemos una especie afectada por alguna variación ambiental la cual incrementa su probabilidad de extinción, por ejemplo, una epidemia. La especie sobreviviría si este cambio ocurre cuando una gran proporción del paisaje es habitable, pero se extinguiría a nivel regional si ha ocurrido una pérdida significativa de hábitat."
   ]
  },
  {
   "cell_type": "markdown",
   "metadata": {
    "slideshow": {
     "slide_type": "slide"
    }
   },
   "source": [
    "##### Exploración"
   ]
  },
  {
   "cell_type": "code",
   "execution_count": null,
   "metadata": {
    "collapsed": false,
    "slideshow": {
     "slide_type": "fragment"
    }
   },
   "outputs": [],
   "source": [
    "def graficar_tasas_levins(colonización=0.8, extinción=0.1, hábitat=1):\n",
    "    parches = numpy.linspace(0, 1, 50)\n",
    "    equilibrio = hábitat - extinción/colonización\n",
    "    tasa_colonización = colonización * parches * (hábitat - parches)\n",
    "    tasa_extinción = extinción * parches\n",
    "    \n",
    "    pyplot.figure()\n",
    "    \n",
    "    pyplot.plot(parches, tasa_colonización, lw=5, label='colonización')\n",
    "    pyplot.plot(parches, tasa_extinción, '--', lw=5, label='extinción')\n",
    "    pyplot.plot(equilibrio, equilibrio * extinción, \"o\", ms=10, c='r')\n",
    "    pyplot.plot(equilibrio, 0.005, \"^\", ms=15, c='r')\n",
    "\n",
    "    \n",
    "    pyplot.ylim(0, 0.3)\n",
    "    pyplot.xlim(0, 1.01)\n",
    "    \n",
    "    pyplot.xlabel('parches ocupados')\n",
    "    pyplot.ylabel('tasas')\n",
    "    pyplot.title('Equilibrio entre tasas')\n",
    "    pyplot.legend(loc='upper right', fontsize = \"small\")\n",
    "\n",
    "    \n",
    "y = interactive(graficar_tasas_levins, \n",
    "                colonización = (0, 1, 0.1),\n",
    "                hábitat = (0, 1, 0.1),\n",
    "                extinción = (0, 1, 0.1))"
   ]
  },
  {
   "cell_type": "code",
   "execution_count": null,
   "metadata": {
    "collapsed": false,
    "slideshow": {
     "slide_type": "slide"
    }
   },
   "outputs": [],
   "source": [
    "display(y)"
   ]
  },
  {
   "cell_type": "markdown",
   "metadata": {
    "slideshow": {
     "slide_type": "slide"
    }
   },
   "source": [
    "## 2. Calidad del paisaje"
   ]
  },
  {
   "cell_type": "markdown",
   "metadata": {
    "slideshow": {
     "slide_type": "fragment"
    }
   },
   "source": [
    "![Image](./figuras/vandermeer_a.png)\n",
    "\n",
    "#### (Vandermeer & Carvajal 2001)"
   ]
  },
  {
   "cell_type": "markdown",
   "metadata": {},
   "source": [
    "Ahora veremos cómo en un paisaje donde se realizan actividades agrícolas, la calidad de las áreas donde están distribuidos los parches de hábitat también influye en la dinámica de metapoblaciones. "
   ]
  },
  {
   "cell_type": "markdown",
   "metadata": {},
   "source": [
    "### Un parche de hábitat"
   ]
  },
  {
   "cell_type": "markdown",
   "metadata": {},
   "source": [
    "![Image](./figuras/diagrama_vandermeer_s.png)\n",
    "\n",
    "#### Un parche de hábitat"
   ]
  },
  {
   "cell_type": "markdown",
   "metadata": {},
   "source": [
    "La población dentro de un parche de hábitat, $x_t$, tiene una tasa de crecimiento $r$ y se comporta de acuerdo al modelo logístico, $$x_{t+1}=rx_{t}(1-x_t).$$\n",
    "\n",
    "En cada tiempo una fracción de la población $e$ emigra del parche hacia el exterior. La proporción de individuos que emigra depende de la calidad del paisaje alrededor del parche: entre mayor es la calidad del paisaje, mayor es la proporción de individuos que emigra. Al incorporar la emigración en la dinámica de población local obtenemos $$x_{t+1} = r x_{t}(1- x_{t})- e x_{t}.$$\n",
    "\n",
    "Debido a la emigración, también hay una cantidad de individuos $y_t$ fuera del parche y en cada tiempo una fracción $i$ regresa al interior, pero el resto muere. La proporción de individuos que inmigra depende de qué tan aislado está el parche. Al incorporar la inmigración a la dinámica local de población, junto con la dinámica de la población fuera del parche, obtenemos las siguientes ecuaciones: \n",
    "\n",
    "$$\\begin{aligned}\n",
    "x_{t+1} &= r(x_{t}+iy_{t})(1- x_{t}- i y_{t})- e x_{t} \\\\\n",
    "y_{t+1} &= e x_{t}.\n",
    "\\end{aligned}$$"
   ]
  },
  {
   "cell_type": "markdown",
   "metadata": {},
   "source": [
    "### Supervivencia de la metapoblación"
   ]
  },
  {
   "cell_type": "markdown",
   "metadata": {},
   "source": [
    "Ahora la supervivencia de la metapoblación depende tanto de la dinámica de población local como de la calidad del paisaje. \n",
    "\n",
    "En un paisaje de muy baja calidad ($e=0$), no ocurre emigración y la población en el parche está aislada. Incrementar la calidad del paisaje induce una dinámica de metapoblación, a \n",
    "\n",
    "La población podría tener una tasa de crecimiento que le permitiera sobrevivir de forma aislada, incluso siguiendo un comportamiento caótico (por ejemplo con $r=3.8$). En este caso, al aumentar la calidad del paisaje la población pasa a formar parte de una metapoblación y el parche experimenta extinciones periódicas, es decir, su supervivencia ahora depende de los individuos fuera del parche. Si la población sobrevivía de forma aislada, ahora es vulnerable a variaciones ambientales que pudieran afectar la dinámica de metapoblación.\n",
    "\n",
    "Por otro lado, cuando la tasa de crecimiento de la población en el parche es demasiado grande ($r>4$), la población se extingue si está aislada ($e=0$), pero sobrebrevive como una metapoblación cuando el paisaje a su alrededor permite la emigración, aunque sólo hasta cierto punto: si la calidad del paisaje es muy alta, el parche se vuelve vulnerable a variaciones ambientales como en el caso anterior."
   ]
  },
  {
   "cell_type": "markdown",
   "metadata": {},
   "source": [
    "##### Exploración"
   ]
  },
  {
   "cell_type": "code",
   "execution_count": null,
   "metadata": {
    "collapsed": false,
    "slideshow": {
     "slide_type": "fragment"
    }
   },
   "outputs": [],
   "source": [
    "def vandermeer(x, y, r, i, e):\n",
    "    \"\"\"\n",
    "    Modelo de metapoblaciones de Vandermeer & Carvajal (2001).\n",
    "    \n",
    "    Parámetros\n",
    "    x: densidad de población en parche\n",
    "    y: densidad de población fuera de parche\n",
    "    r: tasa de crecimiento\n",
    "    i: proporción de individuos que inmigra al parche\n",
    "       (medida del aislamiento del parche)\n",
    "    e: proporción de individuos que emigra del parche \n",
    "       (medida de la calidad del paisaje de alrededor)\n",
    "    \"\"\"\n",
    "    x_next = r * (x + i*y)*(1 - x - i*y) - e*x\n",
    "    if x_next <= 0.001:\n",
    "        x_next = 0\n",
    "    \n",
    "    y_next = e * x\n",
    "    if y_next <= 0.001:\n",
    "        y_next = 0\n",
    "        \n",
    "    return x_next, y_next"
   ]
  },
  {
   "cell_type": "code",
   "execution_count": null,
   "metadata": {
    "collapsed": false,
    "slideshow": {
     "slide_type": "fragment"
    }
   },
   "outputs": [],
   "source": [
    "def graficar_vandermeer(e, r=4.01):    \n",
    "    tiempo = 40\n",
    "    x_0 = 0.1 # densidad de población en parche\n",
    "    y_0 = 0 # densidad de población fuera de parche\n",
    "    i = 0.4 # inmigración hacia el parche\n",
    "    \n",
    "    x = [0]*(tiempo + 1)\n",
    "    y = [0]*(tiempo + 1)\n",
    "    x[0] = x_0\n",
    "    y[0] = y_0\n",
    "    for t in range(tiempo):\n",
    "        x[t+1], y[t+1] = vandermeer(x[t], y[t], r, i, e)\n",
    "        \n",
    "    pyplot.figure()\n",
    "    pyplot.plot(numpy.linspace(0, tiempo, tiempo+1), x, lw=3)\n",
    "    pyplot.plot(numpy.linspace(0, tiempo, tiempo+1), numpy.zeros(tiempo+1), '--', c='red', lw=4)\n",
    "    pyplot.ylim(-0.01, 1.1)\n",
    "    pyplot.xlabel('tiempo')\n",
    "    pyplot.ylabel('población')\n",
    "    pyplot.title('Población en parche de hábitat')"
   ]
  },
  {
   "cell_type": "code",
   "execution_count": null,
   "metadata": {
    "collapsed": false
   },
   "outputs": [],
   "source": [
    "w = interactive(graficar_vandermeer, r={'3.8': 3.8, '4.01':4.01}, e=(0, 1, 0.1))"
   ]
  },
  {
   "cell_type": "code",
   "execution_count": null,
   "metadata": {
    "collapsed": false,
    "scrolled": false,
    "slideshow": {
     "slide_type": "slide"
    }
   },
   "outputs": [],
   "source": [
    "display(w)"
   ]
  },
  {
   "cell_type": "markdown",
   "metadata": {},
   "source": [
    "## Referencias"
   ]
  },
  {
   "cell_type": "markdown",
   "metadata": {},
   "source": [
    "1. González González, C., López Martínez, R., Hernández López, S., & Benítez, M. (2016). A dynamical model to study the effect of landscape agricultural management on the conservation of native ecological networks. *Agroecology and Sustainable Food Systems, 40*(9), 922–940. http://doi.org/10.1080/21683565.2016.1209271\n",
    "2. Levins, R. (1969). Some demographic and genetic consequences of environmental heterogeneity for biological control. *Bulletin of the Entomological Society of America, 15*(3), 237–240. http://doi.org/10.1093/besa/15.3.237\n",
    "3. Vandermeer, J., & Carvajal, R. (2001). Metapopulation dynamics and the quality of the matrix. *The American Naturalist, 158*(3), 211–220. http://doi.org/10.1086/321318"
   ]
  },
  {
   "cell_type": "code",
   "execution_count": 2,
   "metadata": {
    "collapsed": false,
    "slideshow": {
     "slide_type": "skip"
    }
   },
   "outputs": [
    {
     "data": {
      "text/html": [
       "<link href='http://fonts.googleapis.com/css?family=Lato:100,300,400,500,700,800,900,100italic,300italic,400italic,500italic,700italic,800italic,900italic' rel='stylesheet' type='text/css'>\n",
       "<link href='http://fonts.googleapis.com/css?family=PT+Mono' rel='stylesheet' type='text/css'>\n",
       "<link href='http://fonts.googleapis.com/css?family=Shadows+Into+Light' rel='stylesheet' type='text/css'>\n",
       "<link href='http://fonts.googleapis.com/css?family=Alegreya' rel='stylesheet' type='text/css'>\n",
       "<style>\n",
       "\n",
       "@font-face {\n",
       "    font-family: \"Computer Modern\";\n",
       "    src: url('http://mirrors.ctan.org/fonts/cm-unicode/fonts/otf/cmunss.otf');\n",
       "}\n",
       "\n",
       "#notebook_panel { /* main background */\n",
       "    /*background: rgb(245,245,245);*/\n",
       "}\n",
       "\n",
       "div.cell { /* set cell width */\n",
       "    width: 850px;\n",
       "}\n",
       "\n",
       "div #notebook { /* centre the content */\n",
       "    width: 1000px;\n",
       "    margin: auto;\n",
       "    padding-left: 0em;\n",
       "}\n",
       "\n",
       "#notebook li { /* More space between bullet points */\n",
       "margin-top:0.8em;\n",
       "}\n",
       "\n",
       "/* draw border around running cells */\n",
       "div.cell.border-box-sizing.code_cell.running { \n",
       "    border: 1px solid #111;\n",
       "}\n",
       "\n",
       "/* Put a solid color box around each cell and its output, visually linking them*/\n",
       "div.cell.code_cell {\n",
       "    border-radius: 0px; \n",
       "    padding: 0.5em;\n",
       "    margin-left:1em;\n",
       "    margin-top: 1em;\n",
       "}\n",
       "\n",
       "div.text_cell_render{\n",
       "    font-family: 'Lato', sans-serif;\n",
       "    line-height: 140%;\n",
       "    font-size: 125%;\n",
       "    font-weight: 400;\n",
       "    width:700px;\n",
       "    margin-left:auto;\n",
       "    margin-right:auto;\n",
       "}\n",
       "\n",
       "\n",
       "/* Formatting for header cells */\n",
       ".text_cell_render h1 {\n",
       "    font-family: 'Alegreya', serif;\n",
       "    font-style:regular;\n",
       "    font-weight: 500;    \n",
       "    font-size: 50pt;\n",
       "    line-height: 100%;\n",
       "    color: rgb(6, 56, 82);\n",
       "    margin-bottom: 0.5em;\n",
       "    margin-top: 0.5em;\n",
       "    display: block;\n",
       "}\t\n",
       ".text_cell_render h2 {\n",
       "    font-family: 'Alegreya', serif;\n",
       "    font-weight: 400;\n",
       "    font-size: 30pt;\n",
       "    line-height: 100%;\n",
       "    color: rgb(6, 56, 82);\n",
       "    margin-bottom: 0.1em;\n",
       "    margin-top: 0.3em;\n",
       "    display: block;\n",
       "}\t\n",
       "\n",
       ".text_cell_render h3 {\n",
       "    font-family: 'Alegreya', serif;\n",
       "    margin-top:16px;\n",
       "\tfont-size: 22pt;\n",
       "    font-weight: 500;\n",
       "    margin-bottom: 3px;\n",
       "    font-style: regular;\n",
       "    color: rgb(6, 56, 82);\n",
       "}\n",
       "\n",
       ".text_cell_render h4 {    /*Use this for captions*/\n",
       "    font-family: 'Alegreya', serif;\n",
       "    font-size: 12pt;\n",
       "    text-align: center;\n",
       "    margin-left:50px;\n",
       "    margin-top: 0.5em;\n",
       "    margin-bottom: 2em;\n",
       "    font-style: regular;\n",
       "}\n",
       "\n",
       ".text_cell_render h5 {  /*Use this for small titles*/\n",
       "    font-family: 'Alegreya', sans-serif;\n",
       "    font-weight: 400;\n",
       "    font-size: 16pt;\n",
       "    color: rgb(240, 129, 15);\n",
       "    font-style: italic;\n",
       "    margin-top: 0.8em;\n",
       "    margin-bottom: 0px\n",
       "}\n",
       "\n",
       ".text_cell_render h6 { /*use this for copyright note*/\n",
       "    font-family: 'PT Mono', sans-serif;\n",
       "    font-weight: 300;\n",
       "    font-size: 9pt;\n",
       "    line-height: 100%;\n",
       "    color: grey;\n",
       "    margin-bottom: 1px;\n",
       "    margin-top: 1px;\n",
       "}\n",
       "\n",
       ".CodeMirror{\n",
       "        font-family: \"PT Mono\";\n",
       "        font-size: 90%;\n",
       "}\n",
       "\n",
       "</style>\n",
       "<script>\n",
       "    MathJax.Hub.Config({\n",
       "                        TeX: {\n",
       "                           extensions: [\"AMSmath.js\"],\n",
       "                           equationNumbers: { autoNumber: \"AMS\", useLabelIds: true}\n",
       "                           },\n",
       "                tex2jax: {\n",
       "                    inlineMath: [ ['$','$'], [\"\\\\(\",\"\\\\)\"] ],\n",
       "                    displayMath: [ ['$$','$$'], [\"\\\\[\",\"\\\\]\"] ]\n",
       "                },\n",
       "                displayAlign: 'center', // Change this to 'center' to center equations.\n",
       "                \"HTML-CSS\": {\n",
       "                    styles: {'.MathJax_Display': {\"margin\": 4}}\n",
       "                }\n",
       "        });\n",
       "</script>\n"
      ],
      "text/plain": [
       "<IPython.core.display.HTML object>"
      ]
     },
     "execution_count": 2,
     "metadata": {},
     "output_type": "execute_result"
    }
   ],
   "source": [
    "# Estilo\n",
    "from IPython.core.display import HTML\n",
    "css_file = \"./estilo.css\"\n",
    "HTML(open(css_file, \"r\").read())"
   ]
  },
  {
   "cell_type": "code",
   "execution_count": null,
   "metadata": {
    "collapsed": true
   },
   "outputs": [],
   "source": []
  }
 ],
 "metadata": {
  "kernelspec": {
   "display_name": "Python 3",
   "language": "python",
   "name": "python3"
  },
  "language_info": {
   "codemirror_mode": {
    "name": "ipython",
    "version": 3
   },
   "file_extension": ".py",
   "mimetype": "text/x-python",
   "name": "python",
   "nbconvert_exporter": "python",
   "pygments_lexer": "ipython3",
   "version": "3.5.2"
  }
 },
 "nbformat": 4,
 "nbformat_minor": 1
}
